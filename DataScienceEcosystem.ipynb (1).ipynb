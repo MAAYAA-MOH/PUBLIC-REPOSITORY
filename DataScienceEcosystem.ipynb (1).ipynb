{
 "cells": [
  {
   "cell_type": "markdown",
   "id": "f036ac85-3834-437a-b17b-3771eb01f222",
   "metadata": {},
   "source": [
    "# Data Science Tools and Ecosystem "
   ]
  },
  {
   "cell_type": "markdown",
   "id": "46501bbd-7da7-4b39-9958-202a98de1a50",
   "metadata": {},
   "source": [
    "In this notebook, Data Science Tools and Ecosystem are summarized."
   ]
  },
  {
   "cell_type": "markdown",
   "id": "59a4f068-2e8a-4874-b67a-cc2afd40f703",
   "metadata": {},
   "source": [
    "Some of the popular languages that Data Scientists use are:\n",
    "1. Python\n",
    "2. SQL\n",
    "3. R"
   ]
  },
  {
   "cell_type": "markdown",
   "id": "9bb6d79b-f827-4453-926f-3ac0c8a0f244",
   "metadata": {},
   "source": [
    "Some of the commonly used libraries used by Data Scientists include:\n",
    "1. Numpy\n",
    "2. Pandas \n",
    "3. Scikitlearn"
   ]
  },
  {
   "cell_type": "markdown",
   "id": "c83cdf4a-5e88-4fd8-8ba0-c7ed382c3442",
   "metadata": {},
   "source": [
    "# Data Science Tools\n",
    "\n",
    "| Development Environment Tools |\n",
    "|-------------------------------|\n",
    "| Jupyter Notebook              |\n",
    "| RStudio                       |\n",
    "| VS Code + Python Extension    |"
   ]
  },
  {
   "cell_type": "markdown",
   "id": "031cdf4d-a3bc-43f1-b016-0462b36e8a19",
   "metadata": {},
   "source": [
    "### Arithmetic Expression Examples\n",
    "\n",
    "Below are a few examples of evaluating arithmetic expressions in Python."
   ]
  },
  {
   "cell_type": "code",
   "execution_count": 1,
   "id": "e32df7d9-a69f-4cbc-9320-9f0f0755a94f",
   "metadata": {},
   "outputs": [
    {
     "data": {
      "text/plain": [
       "17"
      ]
     },
     "execution_count": 1,
     "metadata": {},
     "output_type": "execute_result"
    }
   ],
   "source": [
    "#This a simple arithmetic expression to mutiply then add integers\n",
    "(3*4)+5"
   ]
  },
  {
   "cell_type": "code",
   "execution_count": 8,
   "id": "dd30ca98-65ea-46ea-bb9c-2323fb8a6f1a",
   "metadata": {},
   "outputs": [
    {
     "data": {
      "text/plain": [
       "3.3333333333333335"
      ]
     },
     "execution_count": 8,
     "metadata": {},
     "output_type": "execute_result"
    }
   ],
   "source": [
    "# This will convert 200 minutes to hours by diving by 60\n",
    "minutes = 200\n",
    "hours = minutes / 60\n",
    "hours\n"
   ]
  },
  {
   "cell_type": "markdown",
   "id": "483617bb-e39f-4bea-b7f6-5cee76817870",
   "metadata": {},
   "source": [
    "**Objectives:**\n",
    "\n",
    "* List popular languages for Data Science\n",
    "* Introduction to Data Science Tools and Ecosystem\n",
    "* Overview of Development Environment Tools\n",
    "* Evaluate Arithmetic Expressions in Python\n",
    "* Convert Minutes to Hours in Python"
   ]
  },
  {
   "cell_type": "markdown",
   "id": "6efa740b-fbb2-4457-8739-963da25ba9d6",
   "metadata": {},
   "source": [
    "## Author\n",
    "Purnima Tripathi"
   ]
  }
 ],
 "metadata": {
  "kernelspec": {
   "display_name": "Python 3 (ipykernel)",
   "language": "python",
   "name": "python3"
  },
  "language_info": {
   "codemirror_mode": {
    "name": "ipython",
    "version": 3
   },
   "file_extension": ".py",
   "mimetype": "text/x-python",
   "name": "python",
   "nbconvert_exporter": "python",
   "pygments_lexer": "ipython3",
   "version": "3.11.7"
  }
 },
 "nbformat": 4,
 "nbformat_minor": 5
}
