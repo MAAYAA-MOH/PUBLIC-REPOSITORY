{
 "cells": [
  {
   "cell_type": "code",
   "execution_count": null,
   "id": "fa46ef77-ec1e-44ba-98b5-f385080ac481",
   "metadata": {},
   "outputs": [],
   "source": [
    "# Data Science Tools and Ecosystem "
   ]
  },
  {
   "cell_type": "markdown",
   "id": "46501bbd-7da7-4b39-9958-202a98de1a50",
   "metadata": {},
   "source": [
    "In this notebook, Data Science Tools and Ecosystem are summarized."
   ]
  },
  {
   "cell_type": "code",
   "execution_count": null,
   "id": "b2e5ccfc-8520-4e83-b392-f35636737dd8",
   "metadata": {},
   "outputs": [],
   "source": [
    "Some of the popular languages that Data Scientists use are:\n",
    "1. Python\n",
    "2. SQL\n",
    "3. R"
   ]
  },
  {
   "cell_type": "code",
   "execution_count": null,
   "id": "b09f2825-635c-4e9c-b300-669443c6fd7e",
   "metadata": {},
   "outputs": [],
   "source": [
    "Some of the commonly used libraries used by Data Scientists include:\n",
    "1. Numpy\n",
    "2. Pandas \n",
    "3. Scikitlearn"
   ]
  },
  {
   "cell_type": "code",
   "execution_count": null,
   "id": "5e0d1e23-2be1-40d4-be70-7ce233e7f715",
   "metadata": {},
   "outputs": [],
   "source": [
    "# Data Science Tools\n",
    "\n",
    "| Development Environment Tools |\n",
    "|-------------------------------|\n",
    "| Jupyter Notebook              |\n",
    "| RStudio                       |\n",
    "| VS Code + Python Extension    |"
   ]
  },
  {
   "cell_type": "markdown",
   "id": "28ff37ef-5f28-484a-8178-a49b3fa72991",
   "metadata": {},
   "source": [
    "### Arithmetic Expression Examples\n",
    "\n",
    "Below are a few examples of evaluating arithmetic expressions in Python."
   ]
  },
  {
   "cell_type": "code",
   "execution_count": 1,
   "id": "e32df7d9-a69f-4cbc-9320-9f0f0755a94f",
   "metadata": {},
   "outputs": [
    {
     "data": {
      "text/plain": [
       "17"
      ]
     },
     "execution_count": 1,
     "metadata": {},
     "output_type": "execute_result"
    }
   ],
   "source": [
    "#This a simple arithmetic expression to mutiply then add integers\n",
    "(3*4)+5"
   ]
  },
  {
   "cell_type": "code",
   "execution_count": 8,
   "id": "dd30ca98-65ea-46ea-bb9c-2323fb8a6f1a",
   "metadata": {},
   "outputs": [
    {
     "data": {
      "text/plain": [
       "3.3333333333333335"
      ]
     },
     "execution_count": 8,
     "metadata": {},
     "output_type": "execute_result"
    }
   ],
   "source": [
    "# This will convert 200 minutes to hours by diving by 60\n",
    "minutes = 200\n",
    "hours = minutes / 60\n",
    "hours\n"
   ]
  },
  {
   "cell_type": "markdown",
   "id": "483617bb-e39f-4bea-b7f6-5cee76817870",
   "metadata": {},
   "source": [
    "**Objectives:**\n",
    "\n",
    "* List popular languages for Data Science\n",
    "* Introduction to Data Science Tools and Ecosystem\n",
    "* Overview of Development Environment Tools\n",
    "* Evaluate Arithmetic Expressions in Python\n",
    "* Convert Minutes to Hours in Python"
   ]
  },
  {
   "cell_type": "markdown",
   "id": "6efa740b-fbb2-4457-8739-963da25ba9d6",
   "metadata": {},
   "source": [
    "## Author\n",
    "Purnima Tripathi"
   ]
  }
 ],
 "metadata": {
  "kernelspec": {
   "display_name": "Python 3 (ipykernel)",
   "language": "python",
   "name": "python3"
  },
  "language_info": {
   "codemirror_mode": {
    "name": "ipython",
    "version": 3
   },
   "file_extension": ".py",
   "mimetype": "text/x-python",
   "name": "python",
   "nbconvert_exporter": "python",
   "pygments_lexer": "ipython3",
   "version": "3.11.7"
  }
 },
 "nbformat": 4,
 "nbformat_minor": 5
}
